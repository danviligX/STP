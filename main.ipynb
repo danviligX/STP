{
 "cells": [
  {
   "cell_type": "code",
   "execution_count": 7,
   "metadata": {},
   "outputs": [],
   "source": [
    "from model.SGAN.sgan_utils import SGAN_dataset_loder\n",
    "from clstp.utils import data_divide\n",
    "import numpy as np"
   ]
  }
 ],
 "metadata": {
  "kernelspec": {
   "display_name": "cuda",
   "language": "python",
   "name": "python3"
  },
  "language_info": {
   "codemirror_mode": {
    "name": "ipython",
    "version": 3
   },
   "file_extension": ".py",
   "mimetype": "text/x-python",
   "name": "python",
   "nbconvert_exporter": "python",
   "pygments_lexer": "ipython3",
   "version": "3.10.0"
  },
  "orig_nbformat": 4,
  "vscode": {
   "interpreter": {
    "hash": "4a4451e1feff60935aee2fa214a5c74b47ae68af2a34c8267718b30be5d363ab"
   }
  }
 },
 "nbformat": 4,
 "nbformat_minor": 2
}
