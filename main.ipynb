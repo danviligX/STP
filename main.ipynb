{
 "cells": [
  {
   "cell_type": "code",
   "execution_count": 1,
   "metadata": {},
   "outputs": [],
   "source": [
    "from model.SGAN.sgan_utils import SGAN_data_loader\n",
    "from clstp.utils import data_divide,search_track_pos\n",
    "import numpy as np\n",
    "import pickle"
   ]
  },
  {
   "cell_type": "code",
   "execution_count": 2,
   "metadata": {},
   "outputs": [],
   "source": [
    "data_div_para = 5\n",
    "train_valid_array = np.load('./data/meta/train_valid.npy')\n",
    "train_validation_idx = data_divide(train_valid_array,para=data_div_para)\n",
    "\n",
    "CV_i = 0\n",
    "train_item_idx = train_validation_idx[CV_i][0]\n",
    "valid_item_idx = train_validation_idx[CV_i][1]\n",
    "\n",
    "# batch_size = 1\n",
    "# train_loader,valid_loader = SGAN_data_loader(train_item_idx=train_item_idx,\n",
    "#                                                               valid_item_idx=valid_item_idx,\n",
    "#                                                               batch_size=batch_size)"
   ]
  },
  {
   "cell_type": "code",
   "execution_count": 3,
   "metadata": {},
   "outputs": [],
   "source": [
    "item_idx = train_item_idx\n",
    "\n",
    "set_folder_path = './data/set/'\n",
    "history_len = 8\n",
    "\n",
    "meta_info = np.load('./data/meta/meta_info.npy')\n",
    "with open('./data/meta/data_name_list.pkl','rb') as path:\n",
    "    data_name_list = pickle.load(path)\n",
    "    path.close()\n",
    "\n",
    "set_file = []\n",
    "for i in range(len(data_name_list)):\n",
    "    data_name = data_name_list[i]\n",
    "    with open(\"\".join([set_folder_path,data_name,'.pkl']),'rb') as path:\n",
    "        file = pickle.load(path)\n",
    "        path.close()\n",
    "    set_file.append(file)\n",
    "\n",
    "train_list = []\n",
    "for index in item_idx:\n",
    "    meta_item = meta_info[index]\n",
    "    track = search_track_pos(meta_item,set_file[meta_item[0]])\n",
    "\n",
    "    track_x = track[:history_len].transpose()\n",
    "    track_y = track[history_len:].transpose()\n",
    "    train_list.append((track_x,track_y,meta_item[0].item()))\n",
    "    break"
   ]
  },
  {
   "cell_type": "code",
   "execution_count": 5,
   "metadata": {},
   "outputs": [],
   "source": [
    "import torch\n",
    "T = torch.tensor(track[:history_len])"
   ]
  },
  {
   "cell_type": "code",
   "execution_count": 21,
   "metadata": {},
   "outputs": [
    {
     "data": {
      "text/plain": [
       "tensor([[-3.8300, -0.1400],\n",
       "        [-3.4100, -0.1400],\n",
       "        [-2.9700, -0.1500],\n",
       "        [-2.5200, -0.1600],\n",
       "        [-2.0600, -0.1800],\n",
       "        [-1.5700, -0.1900],\n",
       "        [-1.0800, -0.1900],\n",
       "        [-0.5800, -0.1700]])"
      ]
     },
     "execution_count": 21,
     "metadata": {},
     "output_type": "execute_result"
    }
   ],
   "source": [
    "T"
   ]
  },
  {
   "cell_type": "code",
   "execution_count": 28,
   "metadata": {},
   "outputs": [
    {
     "data": {
      "text/plain": [
       "torch.return_types.max(\n",
       "values=tensor([-0.1400, -0.1400, -0.1500, -0.1600, -0.1800, -0.1900, -0.1900, -0.1700]),\n",
       "indices=tensor([1, 1, 1, 1, 1, 1, 1, 1]))"
      ]
     },
     "execution_count": 28,
     "metadata": {},
     "output_type": "execute_result"
    }
   ],
   "source": [
    "T.max(1)"
   ]
  }
 ],
 "metadata": {
  "kernelspec": {
   "display_name": "cuda",
   "language": "python",
   "name": "python3"
  },
  "language_info": {
   "codemirror_mode": {
    "name": "ipython",
    "version": 3
   },
   "file_extension": ".py",
   "mimetype": "text/x-python",
   "name": "python",
   "nbconvert_exporter": "python",
   "pygments_lexer": "ipython3",
   "version": "3.10.0"
  },
  "orig_nbformat": 4,
  "vscode": {
   "interpreter": {
    "hash": "4a4451e1feff60935aee2fa214a5c74b47ae68af2a34c8267718b30be5d363ab"
   }
  }
 },
 "nbformat": 4,
 "nbformat_minor": 2
}
